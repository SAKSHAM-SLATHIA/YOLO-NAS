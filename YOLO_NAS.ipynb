{
  "nbformat": 4,
  "nbformat_minor": 0,
  "metadata": {
    "colab": {
      "provenance": [],
      "authorship_tag": "ABX9TyOLgc6WNAdRCC6OULSKOoU1",
      "include_colab_link": true
    },
    "kernelspec": {
      "name": "python3",
      "display_name": "Python 3"
    },
    "language_info": {
      "name": "python"
    }
  },
  "cells": [
    {
      "cell_type": "markdown",
      "metadata": {
        "id": "view-in-github",
        "colab_type": "text"
      },
      "source": [
        "<a href=\"https://colab.research.google.com/github/SAKSHAM-SLATHIA/YOLO-NAS/blob/main/YOLO_NAS.ipynb\" target=\"_parent\"><img src=\"https://colab.research.google.com/assets/colab-badge.svg\" alt=\"Open In Colab\"/></a>"
      ]
    },
    {
      "cell_type": "code",
      "execution_count": 33,
      "metadata": {
        "id": "wcYiSYkLtX-9"
      },
      "outputs": [],
      "source": [
        "!pip install super_gradients"
      ]
    },
    {
      "cell_type": "code",
      "source": [
        "!pip install imutils"
      ],
      "metadata": {
        "id": "MmE0C_ON00hH"
      },
      "execution_count": null,
      "outputs": []
    },
    {
      "cell_type": "code",
      "source": [
        "!pip install roboflow"
      ],
      "metadata": {
        "id": "X3NhmrIy07V1"
      },
      "execution_count": null,
      "outputs": []
    },
    {
      "cell_type": "code",
      "source": [
        "!pip install pytube --upgrade"
      ],
      "metadata": {
        "id": "7NyAF3Ad0-PN"
      },
      "execution_count": 37,
      "outputs": []
    },
    {
      "cell_type": "code",
      "source": [
        "import torch\n",
        "torch.__version__\n",
        "device = 'cuda' if torch.cuda.is_available() else \"cpu\""
      ],
      "metadata": {
        "id": "anhFjlb61XOc"
      },
      "execution_count": 38,
      "outputs": []
    },
    {
      "cell_type": "markdown",
      "source": [
        "# **INFERENCE WITH YOLO-NAS PRE TRAINED MODELS**\n",
        "Yolonas comes with three models:\n",
        "1. yolo_nas_s(YOLONAS SMALL) -> Fast, but less accurate\n",
        "1. yolo_nas_m(YOLONAS MEDIUM) -> Slower than Yolonas Small, but more accurate\n",
        "1. yolo_nas_l(YOLONAS LARGE) -> Slowest, but most accurate"
      ],
      "metadata": {
        "id": "p2fBkusP3rkb"
      }
    },
    {
      "cell_type": "code",
      "source": [
        "# CODE FOR MODEL CALLING\n",
        "from super_gradients.training import models"
      ],
      "metadata": {
        "id": "LteNEjMj4JXy"
      },
      "execution_count": null,
      "outputs": []
    },
    {
      "cell_type": "code",
      "source": [
        "yolo_nas_l = models.get(\"yolo_nas_l\", pretrained_weights = \"coco\")"
      ],
      "metadata": {
        "id": "V8DfNey24UwH"
      },
      "execution_count": null,
      "outputs": []
    },
    {
      "cell_type": "markdown",
      "source": [
        "**INFERENCE ON AN IMAGE**\n",
        "Once the model has been instantiated, all we have to do is call the predict method"
      ],
      "metadata": {
        "id": "-Jb-ktbJ4piC"
      }
    },
    {
      "cell_type": "code",
      "source": [
        "input_url = \"IMG_5384.JPG\"\n",
        "output_url = \"op.JPG\"\n",
        "yolo_nas_l.predict(input_url, conf = 0.25).save(output_url)"
      ],
      "metadata": {
        "colab": {
          "base_uri": "https://localhost:8080/"
        },
        "id": "t-or0wTG4o1B",
        "outputId": "44ba9348-9174-44c0-c851-fd0dba049856"
      },
      "execution_count": 39,
      "outputs": [
        {
          "output_type": "stream",
          "name": "stderr",
          "text": [
            "[2024-03-08 07:29:07] INFO - pipelines.py - Fusing some of the model's layers. If this takes too much memory, you can deactivate it by setting `fuse_model=False`\n"
          ]
        }
      ]
    }
  ]
}