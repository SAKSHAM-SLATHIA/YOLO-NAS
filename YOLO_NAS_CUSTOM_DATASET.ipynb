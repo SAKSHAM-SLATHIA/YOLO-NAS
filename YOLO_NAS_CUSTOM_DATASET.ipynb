{
  "nbformat": 4,
  "nbformat_minor": 0,
  "metadata": {
    "colab": {
      "provenance": [],
      "authorship_tag": "ABX9TyMx1hxZDsfCiK44E09nWI7a",
      "include_colab_link": true
    },
    "kernelspec": {
      "name": "python3",
      "display_name": "Python 3"
    },
    "language_info": {
      "name": "python"
    }
  },
  "cells": [
    {
      "cell_type": "markdown",
      "metadata": {
        "id": "view-in-github",
        "colab_type": "text"
      },
      "source": [
        "<a href=\"https://colab.research.google.com/github/SAKSHAM-SLATHIA/YOLO-NAS/blob/main/YOLO_NAS_CUSTOM_DATASET.ipynb\" target=\"_parent\"><img src=\"https://colab.research.google.com/assets/colab-badge.svg\" alt=\"Open In Colab\"/></a>"
      ]
    },
    {
      "cell_type": "code",
      "execution_count": 1,
      "metadata": {
        "id": "lsWaYfaZHxPs"
      },
      "outputs": [],
      "source": [
        "!pip install super_gradients #== 3.1.0"
      ]
    },
    {
      "cell_type": "code",
      "source": [
        "!pip install imutils"
      ],
      "metadata": {
        "colab": {
          "base_uri": "https://localhost:8080/"
        },
        "id": "6AxYzn0YKc8d",
        "outputId": "57385f95-dc7a-4952-8ee4-1a362c920651"
      },
      "execution_count": 3,
      "outputs": [
        {
          "output_type": "stream",
          "name": "stdout",
          "text": [
            "Requirement already satisfied: imutils in /usr/local/lib/python3.10/dist-packages (0.5.4)\n"
          ]
        }
      ]
    },
    {
      "cell_type": "code",
      "source": [
        "!pip install roboflow"
      ],
      "metadata": {
        "id": "szMQ1svgKn3t"
      },
      "execution_count": null,
      "outputs": []
    },
    {
      "cell_type": "code",
      "source": [
        "!pip install pytube --upgrade"
      ],
      "metadata": {
        "id": "HfAPuDgaKuHM"
      },
      "execution_count": null,
      "outputs": []
    },
    {
      "cell_type": "code",
      "source": [
        "import torch\n",
        "torch.__version__\n",
        "# torch.cuda.get_device_name(0)"
      ],
      "metadata": {
        "colab": {
          "base_uri": "https://localhost:8080/",
          "height": 35
        },
        "id": "VXoa_ksyK0dL",
        "outputId": "37388186-7805-463b-f72d-53e922c8e386"
      },
      "execution_count": 5,
      "outputs": [
        {
          "output_type": "execute_result",
          "data": {
            "text/plain": [
              "'2.1.0+cu121'"
            ],
            "application/vnd.google.colaboratory.intrinsic+json": {
              "type": "string"
            }
          },
          "metadata": {},
          "execution_count": 5
        }
      ]
    },
    {
      "cell_type": "markdown",
      "source": [
        "#**FINE TRAINING YOLONAS ON CUSTOM DATASET**\n",
        "\n",
        "**THE TRAINER**\n",
        "First thing we need to define in Supergradients is the trainer\n",
        "The trainer is incharge of training, evaluating, saving checkpoints, etc\n",
        "\n",
        "There's two important arguments to the trainer:\n",
        "1. ckpt_root_dir -> Directory where results from all our directory will be saved\n",
        "2. experiment_name -> All checkpoints, loads and tensorboards will be saved in a directory with the name we specify here"
      ],
      "metadata": {
        "id": "OlrCaTnFLgsW"
      }
    },
    {
      "cell_type": "code",
      "source": [
        "from super_gradients.training import Trainer\n",
        "\n",
        "CHECKPOINT_DIR = \"checkpoints\"\n",
        "trainer = Trainer(experiment_name = \"my_first_yolonas_run\", ckpt_root_dir = CHECKPOINT_DIR)"
      ],
      "metadata": {
        "id": "69rjL9d_MnDK"
      },
      "execution_count": 6,
      "outputs": []
    },
    {
      "cell_type": "markdown",
      "source": [
        "#**DATASETS AND DATALOADERS**"
      ],
      "metadata": {
        "id": "0aZTRVt2M-Dz"
      }
    }
  ]
}