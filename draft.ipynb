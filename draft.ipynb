{
  "nbformat": 4,
  "nbformat_minor": 0,
  "metadata": {
    "colab": {
      "provenance": [],
      "authorship_tag": "ABX9TyMHjPcdSJ13C8EYGLOxxbg9",
      "include_colab_link": true
    },
    "kernelspec": {
      "name": "python3",
      "display_name": "Python 3"
    },
    "language_info": {
      "name": "python"
    }
  },
  "cells": [
    {
      "cell_type": "markdown",
      "metadata": {
        "id": "view-in-github",
        "colab_type": "text"
      },
      "source": [
        "<a href=\"https://colab.research.google.com/github/SAKSHAM-SLATHIA/YOLO-NAS/blob/main/draft.ipynb\" target=\"_parent\"><img src=\"https://colab.research.google.com/assets/colab-badge.svg\" alt=\"Open In Colab\"/></a>"
      ]
    },
    {
      "cell_type": "code",
      "execution_count": 2,
      "metadata": {
        "colab": {
          "base_uri": "https://localhost:8080/",
          "height": 108
        },
        "id": "46jf1Z5UhIpw",
        "outputId": "c8c6a757-7ee8-4059-c959-123b7e912c6d"
      },
      "outputs": [
        {
          "output_type": "error",
          "ename": "SyntaxError",
          "evalue": "invalid syntax (<ipython-input-2-0cc645dd0bf2>, line 21)",
          "traceback": [
            "\u001b[0;36m  File \u001b[0;32m\"<ipython-input-2-0cc645dd0bf2>\"\u001b[0;36m, line \u001b[0;32m21\u001b[0m\n\u001b[0;31m    dataset_params =\u001b[0m\n\u001b[0m                    ^\u001b[0m\n\u001b[0;31mSyntaxError\u001b[0m\u001b[0;31m:\u001b[0m invalid syntax\n"
          ]
        }
      ],
      "source": [
        "!pip install super_gradients #== 3.1.0\n",
        "\n",
        "!pip install imutils\n",
        "\n",
        "!pip install roboflow\n",
        "\n",
        "!pip install pytube --upgrade\n",
        "\n",
        "import torch\n",
        "torch.__version__\n",
        "# torch.cuda.get_device_name(0)\n",
        "\n",
        "from super_gradients.training import Trainer\n",
        "\n",
        "CHECKPOINT_DIR = \"checkpoints\"\n",
        "trainer = Trainer(experiment_name = \"my_first_yolonas_run\", ckpt_root_dir = CHECKPOINT_DIR)\n",
        "\n",
        "from super_gradients.training import dataloaders\n",
        "from super_gradients.training.dataloaders.dataloaders import coco_detection_yolo_format_train, coco_detection_yolo_format_val\n",
        "\n",
        "dataset_params =\n",
        "{\n",
        "    'data_dir' : 'FallDetection',\n",
        "    'train_images_dir' : 'train/images',\n",
        "    'train_labels_dir' : 'train/labels',\n",
        "    'val_images_dir' : 'val/images',\n",
        "    'val_labels_dir' : 'val_labels',\n",
        "    'test_images_dir' : 'test/images',\n",
        "    'test_labels_dir' : 'test/labels',\n",
        "    'classes' : ['Fall-Detected']\n",
        "}"
      ]
    }
  ]
}